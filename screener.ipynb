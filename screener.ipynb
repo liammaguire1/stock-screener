{
 "cells": [
  {
   "cell_type": "code",
   "execution_count": 12,
   "metadata": {},
   "outputs": [],
   "source": [
    "import string\n",
    "import time\n",
    "import random\n",
    "\n",
    "from bs4 import BeautifulSoup\n",
    "from selenium import webdriver\n",
    "from selenium.webdriver.common.by import By\n",
    "from selenium.webdriver.support.wait import WebDriverWait\n",
    "from selenium.webdriver.support import expected_conditions as EC\n",
    "from fake_useragent import UserAgent"
   ]
  },
  {
   "cell_type": "code",
   "execution_count": 18,
   "metadata": {},
   "outputs": [],
   "source": [
    "NASDAQ_URL = 'https://www.nasdaq.com/market-activity/stocks/screener'\n",
    "companies = {}\n",
    "\n",
    "ua = UserAgent()\n",
    "user_agent = ua.random\n",
    "options = webdriver.ChromeOptions()\n",
    "options.add_argument(f'--user-agent={user_agent}')\n",
    "\n",
    "prefs={\"download.default_directory\":\"/Users/liammaguire/Desktop/\"}\n",
    "options.add_experimental_option(\"prefs\",prefs)\n",
    "\n",
    "#options.add_argument(\"--headless=new\")\n",
    "\n",
    "driver = webdriver.Chrome(options=options)\n",
    "\n",
    "# Download CSVs for all NASDAQ & NYSE listings\n",
    "\n",
    "# Load NASDAQ website\n",
    "driver.get(NASDAQ_URL)\n",
    "WebDriverWait(driver, 60).until(\n",
    "    EC.presence_of_element_located((By.XPATH, '//*[@id=\"filterModal\"]/div/div[3]/button[1]'))\n",
    ")\n",
    "\n",
    "def apply_and_download():\n",
    "    time.sleep(5)\n",
    "    apply_button = driver.find_element(By.XPATH, '//*[@id=\"filterModal\"]/div/div[3]/button[1]')\n",
    "    apply_button.click()\n",
    "    time.sleep(5)\n",
    "    download_button = driver.find_element(By.XPATH, '/html/body/div[2]/div/main/div[2]/article/div[3]/div[1]/div/div/div[3]/div[2]/div[2]/div/button')\n",
    "    download_button.click()\n",
    "\n",
    "# Apply changes and download NASDAQ csv\n",
    "nasdaq_button = driver.find_element(By.XPATH, '//*[@id=\"radioItemNASDAQ\"]')\n",
    "nasdaq_button.click()\n",
    "apply_and_download()\n",
    " \n",
    "# Apply changes and download NYSE csv\n",
    "nyse_button = driver.find_element(By.XPATH, '//*[@id=\"filterModal\"]/div/div[2]/div[1]/div/div[2]/label/span[1]')\n",
    "nyse_button.click()\n",
    "apply_and_download()\n",
    "driver.quit()"
   ]
  }
 ],
 "metadata": {
  "kernelspec": {
   "display_name": "Python 3",
   "language": "python",
   "name": "python3"
  },
  "language_info": {
   "codemirror_mode": {
    "name": "ipython",
    "version": 3
   },
   "file_extension": ".py",
   "mimetype": "text/x-python",
   "name": "python",
   "nbconvert_exporter": "python",
   "pygments_lexer": "ipython3",
   "version": "3.9.6"
  }
 },
 "nbformat": 4,
 "nbformat_minor": 2
}
