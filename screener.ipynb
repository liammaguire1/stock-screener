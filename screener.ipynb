{
 "cells": [
  {
   "cell_type": "code",
   "execution_count": 56,
   "metadata": {},
   "outputs": [],
   "source": [
    "import time\n",
    "import os\n",
    "import random\n",
    "import pandas as pd\n",
    "import requests\n",
    "\n",
    "from bs4 import BeautifulSoup\n",
    "from selenium import webdriver\n",
    "from selenium.webdriver.common.by import By\n",
    "from selenium.webdriver.support.wait import WebDriverWait\n",
    "from selenium.webdriver.support import expected_conditions as EC\n",
    "from selenium.common.exceptions import TimeoutException\n",
    "from fake_useragent import UserAgent"
   ]
  },
  {
   "cell_type": "markdown",
   "metadata": {},
   "source": [
    "## Configurations"
   ]
  },
  {
   "cell_type": "code",
   "execution_count": 57,
   "metadata": {},
   "outputs": [],
   "source": [
    "# Configure fake user agents\n",
    "ua = UserAgent()\n",
    "user_agent = ua.random\n",
    "options = webdriver.ChromeOptions()\n",
    "options.add_argument(f'--user-agent={user_agent}')\n",
    "\n",
    "# Configure file download path\n",
    "#cwd = os.getcwd()\n",
    "#prefs={\"download.default_directory\":cwd}\n",
    "#options.add_experimental_option(\"prefs\",prefs)\n",
    "\n",
    "# Use headless browser\n",
    "#options.add_argument(\"--headless=new\")\n"
   ]
  },
  {
   "cell_type": "markdown",
   "metadata": {},
   "source": [
    "## Magic numbers for criteria"
   ]
  },
  {
   "cell_type": "code",
   "execution_count": 58,
   "metadata": {},
   "outputs": [],
   "source": [
    "MARKET_CAP = 2500000\n",
    "PE_TTM = 30\n",
    "P_CF = 15\n",
    "RELATIVE_PE = .7\n",
    "ROA = .1\n",
    "NET_PROFIT_MARGIN = .1\n",
    "ROIC = .1\n",
    "CAGR = .1\n"
   ]
  },
  {
   "cell_type": "markdown",
   "metadata": {},
   "source": [
    "## Download CSV files for all NASDAQ & NYSE listings"
   ]
  },
  {
   "cell_type": "code",
   "execution_count": 59,
   "metadata": {},
   "outputs": [],
   "source": [
    "companies = {}\n",
    "FINVIZ_URLS = ['https://finviz.com/screener.ashx?v=111&f=cap_microover,exch_nasd,fa_netmargin_o10,fa_roa_o10,sh_short_low&ft=4&r=','https://finviz.com/screener.ashx?v=111&f=cap_microover,exch_nyse,fa_netmargin_o10,fa_roa_o10,sh_short_low&ft=4&r=']\n",
    "\n",
    "# Start driver\n",
    "driver = webdriver.Chrome(options=options)\n",
    "\n",
    "# Scrape NASDAQ & NYSE based on initial criteria\n",
    "for url in FINVIZ_URLS:\n",
    "    \n",
    "    last = False\n",
    "    r = 1\n",
    "\n",
    "    # Iterate through urls until last result page \n",
    "    while not last:\n",
    "        \n",
    "        current_url = url + str(r)\n",
    "        driver.get(current_url)\n",
    "            \n",
    "        html = driver.page_source\n",
    "        soup = BeautifulSoup(html)\n",
    "\n",
    "        # Add tickers to companies dict\n",
    "        table = soup.find('table', class_='styled-table-new is-rounded is-tabular-nums w-full screener_table')\n",
    "        for ticker in table.find_all('a', class_='tab-link'):\n",
    "            if ticker.text not in companies:\n",
    "                companies[ticker.text] = {}\n",
    "            else:\n",
    "                last = True\n",
    "        r += 20\n",
    "\n",
    "driver.quit()"
   ]
  },
  {
   "cell_type": "markdown",
   "metadata": {},
   "source": [
    "## Scrape Yahoo Finance"
   ]
  },
  {
   "cell_type": "code",
   "execution_count": 74,
   "metadata": {},
   "outputs": [
    {
     "name": "stdout",
     "output_type": "stream",
     "text": [
      "2.908T \n",
      "29.44 \n",
      "<td class=\"hu-tooltip-name\">Date</td>\n",
      "<td class=\"hu-tooltip-value\"></td>\n",
      "<td class=\"hu-tooltip-name\">Close</td>\n",
      "<td class=\"hu-tooltip-value\"></td>\n",
      "<td class=\"hu-tooltip-name\">Open</td>\n",
      "<td class=\"hu-tooltip-value\"></td>\n",
      "<td class=\"hu-tooltip-name\">High</td>\n",
      "<td class=\"hu-tooltip-value\"></td>\n",
      "<td class=\"hu-tooltip-name\">Low</td>\n",
      "<td class=\"hu-tooltip-value\"></td>\n",
      "<td class=\"hu-tooltip-name\">Volume</td>\n",
      "<td class=\"hu-tooltip-value\"></td>\n"
     ]
    }
   ],
   "source": [
    "YAHOO_URL_ONE = 'https://finance.yahoo.com/quote/'\n",
    "YAHOO_URL_TWO = '/key-statistics'\n",
    "\n",
    "for company in ['AAPL', 'META']:\n",
    "    ua = UserAgent()\n",
    "    user_agent = ua.random\n",
    "    headers = {\"User-Agent\": user_agent}\n",
    "\n",
    "    # Yahoo summary page\n",
    "    summary_url = YAHOO_URL_ONE + company\n",
    "    page = requests.get(summary_url, headers=headers, timeout=random.uniform(3, 5))\n",
    "    soup = BeautifulSoup(page.content)\n",
    "    market_cap = soup.find('fin-streamer',attrs={\"data-field\": \"marketCap\"}).text\n",
    "    pe = soup.find('fin-streamer',attrs={\"data-field\": \"trailingPE\"}).text\n",
    "    print(market_cap)\n",
    "    print(pe)\n",
    "\n",
    "    # Yahoo statistics page\n",
    "    stats_url = summary_url + YAHOO_URL_TWO\n",
    "    page = requests.get(summary_url, headers=headers, timeout=random.uniform(3, 5))\n",
    "    soup = BeautifulSoup(page.content)\n",
    "\n",
    "    for element in soup.find_all('td'):\n",
    "        print(element)\n",
    "        for e in element.findChildren():\n",
    "            print(e)\n",
    "            print('NEW')\n",
    "    break\n",
    "\n",
    "driver.quit()"
   ]
  }
 ],
 "metadata": {
  "kernelspec": {
   "display_name": "Python 3",
   "language": "python",
   "name": "python3"
  },
  "language_info": {
   "codemirror_mode": {
    "name": "ipython",
    "version": 3
   },
   "file_extension": ".py",
   "mimetype": "text/x-python",
   "name": "python",
   "nbconvert_exporter": "python",
   "pygments_lexer": "ipython3",
   "version": "3.9.6"
  }
 },
 "nbformat": 4,
 "nbformat_minor": 2
}
